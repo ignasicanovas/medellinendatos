{
  "nbformat": 4,
  "nbformat_minor": 0,
  "metadata": {
    "colab": {
      "name": "introduccion.ipynb",
      "provenance": [],
      "authorship_tag": "ABX9TyNleG9J0WZSnu/K01ou4hGg"
    },
    "kernelspec": {
      "name": "python3",
      "display_name": "Python 3"
    }
  },
  "cells": [
    {
      "cell_type": "code",
      "metadata": {
        "id": "BISJjaBxO-gn"
      },
      "source": [
        "import sys,os\r\n",
        "import pandas as pd\r\n",
        "import numpy as np\r\n",
        "import matplotlib\r\n",
        "import matplotlib.pyplot as plt \r\n",
        "import seaborn as sns\r\n",
        "%matplotlib inline"
      ],
      "execution_count": 28,
      "outputs": []
    },
    {
      "cell_type": "markdown",
      "metadata": {
        "id": "5gP5YQ92PyDh"
      },
      "source": [
        "### Índice sintetico de calidad educativa\r\n",
        "Se importa el fichero obtenido de http://medata.gov.co/\r\n",
        "\r\n",
        "\r\n"
      ]
    },
    {
      "cell_type": "code",
      "metadata": {
        "colab": {
          "base_uri": "https://localhost:8080/",
          "height": 151
        },
        "id": "CbVmuLgjPrnU",
        "outputId": "58b3c417-b58a-42f0-ff6d-44cae30c56c3"
      },
      "source": [
        "url = 'https://raw.githubusercontent.com/nanis06/medellinendatos/main/indice_sintetico_de_calidad_educativa.csv'\r\n",
        "cd_educativa = pd.read_csv(url,sep=\";\")\r\n",
        "print(cd_educativa.shape)\r\n",
        "cd_educativa.head(1)"
      ],
      "execution_count": 35,
      "outputs": [
        {
          "output_type": "stream",
          "text": [
            "(393, 64)\n"
          ],
          "name": "stdout"
        },
        {
          "output_type": "execute_result",
          "data": {
            "text/html": [
              "<div>\n",
              "<style scoped>\n",
              "    .dataframe tbody tr th:only-of-type {\n",
              "        vertical-align: middle;\n",
              "    }\n",
              "\n",
              "    .dataframe tbody tr th {\n",
              "        vertical-align: top;\n",
              "    }\n",
              "\n",
              "    .dataframe thead th {\n",
              "        text-align: right;\n",
              "    }\n",
              "</style>\n",
              "<table border=\"1\" class=\"dataframe\">\n",
              "  <thead>\n",
              "    <tr style=\"text-align: right;\">\n",
              "      <th></th>\n",
              "      <th>codigo_dane</th>\n",
              "      <th>establecimiento educativo</th>\n",
              "      <th>comuna</th>\n",
              "      <th>prestacion_servicio</th>\n",
              "      <th>isce_total_2018</th>\n",
              "      <th>isce_prim_2018</th>\n",
              "      <th>isce_secun_2018</th>\n",
              "      <th>isce_media_2018</th>\n",
              "      <th>desempeño_prim_2018</th>\n",
              "      <th>progreso_prim_2018</th>\n",
              "      <th>eficiencia_prim_2018</th>\n",
              "      <th>ambiente_prim_2018</th>\n",
              "      <th>desempeño_secun_2018</th>\n",
              "      <th>progreso_secun_2018</th>\n",
              "      <th>eficiencia_secun_2018</th>\n",
              "      <th>ambiente_secun_2018</th>\n",
              "      <th>desempeño_media_2018</th>\n",
              "      <th>progreso_media_2018</th>\n",
              "      <th>eficienciai_media_2018</th>\n",
              "      <th>iscec_total_2017</th>\n",
              "      <th>iscec_prim_2017</th>\n",
              "      <th>iscec_secun_2017</th>\n",
              "      <th>iscec_media_2017</th>\n",
              "      <th>desempeño_prim_2017</th>\n",
              "      <th>progreso_prim_2017</th>\n",
              "      <th>eficiencia_prim_2017</th>\n",
              "      <th>ambiente_prim_2017</th>\n",
              "      <th>desempeño_secun_2017</th>\n",
              "      <th>progreso_secun_2017</th>\n",
              "      <th>eficiencia_secun_2017</th>\n",
              "      <th>ambiente_secun_2017</th>\n",
              "      <th>desempeño_media_2017</th>\n",
              "      <th>progreso_media_2017</th>\n",
              "      <th>eficiencia_media_2017</th>\n",
              "      <th>iscec_total_2016</th>\n",
              "      <th>iscec_prim_2016</th>\n",
              "      <th>iscec_secun_2016</th>\n",
              "      <th>iscec_media_2016</th>\n",
              "      <th>desempeño_prim_2016</th>\n",
              "      <th>progreso_prim_2016</th>\n",
              "      <th>eficiencia_prim_2016</th>\n",
              "      <th>ambiente_prim_2016</th>\n",
              "      <th>desempeño_secun_2016</th>\n",
              "      <th>progreso_secun_2016</th>\n",
              "      <th>eficienciacia_secun_2016</th>\n",
              "      <th>ambiente_secun_2016</th>\n",
              "      <th>desempeño_media_2016</th>\n",
              "      <th>progreso_media_2016</th>\n",
              "      <th>eficiencia_media_2016</th>\n",
              "      <th>iscec_total_2015</th>\n",
              "      <th>iscec_prim_2015</th>\n",
              "      <th>iscec_secun_2015</th>\n",
              "      <th>iscec_media_2015</th>\n",
              "      <th>desempeño_prim_2015</th>\n",
              "      <th>progreso_prim_2015</th>\n",
              "      <th>eficiencia_prim_2015</th>\n",
              "      <th>ambiente_prim_2015</th>\n",
              "      <th>desempeño_secun_2015</th>\n",
              "      <th>progreso_secun_2015</th>\n",
              "      <th>eficiencia_secun_2015</th>\n",
              "      <th>ambiente_secun_2015</th>\n",
              "      <th>desempeño_media_2015</th>\n",
              "      <th>progreso_media_2015</th>\n",
              "      <th>eficiencia_media_2015</th>\n",
              "    </tr>\n",
              "  </thead>\n",
              "  <tbody>\n",
              "    <tr>\n",
              "      <th>0</th>\n",
              "      <td>105001000001</td>\n",
              "      <td>inst educ jose maria velaz</td>\n",
              "      <td>2.0</td>\n",
              "      <td>oficial</td>\n",
              "      <td>5.013075</td>\n",
              "      <td>4.878913</td>\n",
              "      <td>5.357148</td>\n",
              "      <td>4.712811</td>\n",
              "      <td>2.31</td>\n",
              "      <td>0.980493</td>\n",
              "      <td>0.833</td>\n",
              "      <td>0.75542</td>\n",
              "      <td>2.408</td>\n",
              "      <td>1.51</td>\n",
              "      <td>0.696</td>\n",
              "      <td>0.743148</td>\n",
              "      <td>2.431477</td>\n",
              "      <td>0.333333</td>\n",
              "      <td>1.948</td>\n",
              "      <td>4.901908</td>\n",
              "      <td>4.602673</td>\n",
              "      <td>5.585324</td>\n",
              "      <td>4.379206</td>\n",
              "      <td>2.336</td>\n",
              "      <td>0.770909</td>\n",
              "      <td>0.738176</td>\n",
              "      <td>0.757588</td>\n",
              "      <td>2.576</td>\n",
              "      <td>1.536083</td>\n",
              "      <td>0.725714</td>\n",
              "      <td>0.747528</td>\n",
              "      <td>2.520051</td>\n",
              "      <td>0.0</td>\n",
              "      <td>1.859155</td>\n",
              "      <td>5.542005</td>\n",
              "      <td>4.950772</td>\n",
              "      <td>5.229942</td>\n",
              "      <td>7.418391</td>\n",
              "      <td>2.304</td>\n",
              "      <td>1.140237</td>\n",
              "      <td>0.778878</td>\n",
              "      <td>0.727658</td>\n",
              "      <td>2.344</td>\n",
              "      <td>1.5</td>\n",
              "      <td>0.638743</td>\n",
              "      <td>0.747199</td>\n",
              "      <td>2.475881</td>\n",
              "      <td>3.157895</td>\n",
              "      <td>1.784615</td>\n",
              "      <td>4.445709</td>\n",
              "      <td>3.753044</td>\n",
              "      <td>4.012375</td>\n",
              "      <td>6.762541</td>\n",
              "      <td>2.194</td>\n",
              "      <td>0.007762</td>\n",
              "      <td>0.810345</td>\n",
              "      <td>0.740938</td>\n",
              "      <td>2.6</td>\n",
              "      <td>0.0</td>\n",
              "      <td>0.677108</td>\n",
              "      <td>0.735267</td>\n",
              "      <td>2.32849</td>\n",
              "      <td>3.109375</td>\n",
              "      <td>1.324675</td>\n",
              "    </tr>\n",
              "  </tbody>\n",
              "</table>\n",
              "</div>"
            ],
            "text/plain": [
              "    codigo_dane  ... eficiencia_media_2015\n",
              "0  105001000001  ...              1.324675\n",
              "\n",
              "[1 rows x 64 columns]"
            ]
          },
          "metadata": {
            "tags": []
          },
          "execution_count": 35
        }
      ]
    },
    {
      "cell_type": "code",
      "metadata": {
        "colab": {
          "base_uri": "https://localhost:8080/"
        },
        "id": "5TN7tVbE9LNJ",
        "outputId": "3456091d-c96c-417d-ce0a-d83eb2793b47"
      },
      "source": [
        "df = pd.DataFrame(cd_educativa)\r\n",
        "print (df)\r\n",
        "print (df.dtypes)"
      ],
      "execution_count": 36,
      "outputs": [
        {
          "output_type": "stream",
          "text": [
            "      codigo_dane  ... eficiencia_media_2015\n",
            "0    105001000001  ...              1.324675\n",
            "1    105001000043  ...              1.254545\n",
            "2    105001000132  ...              1.754386\n",
            "3    105001000141  ...              1.753425\n",
            "4    105001000167  ...              1.482759\n",
            "..            ...  ...                   ...\n",
            "388  305001026343  ...                   NaN\n",
            "389  405001013912  ...                   NaN\n",
            "390  405001016946  ...              1.931973\n",
            "391  405001018213  ...              0.484848\n",
            "392  405001026500  ...                   NaN\n",
            "\n",
            "[393 rows x 64 columns]\n",
            "codigo_dane                    int64\n",
            "establecimiento educativo     object\n",
            "comuna                       float64\n",
            "prestacion_servicio           object\n",
            "isce_total_2018              float64\n",
            "                              ...   \n",
            "eficiencia_secun_2015        float64\n",
            "ambiente_secun_2015          float64\n",
            "desempeño_media_2015         float64\n",
            "progreso_media_2015          float64\n",
            "eficiencia_media_2015        float64\n",
            "Length: 64, dtype: object\n"
          ],
          "name": "stdout"
        }
      ]
    },
    {
      "cell_type": "code",
      "metadata": {
        "colab": {
          "base_uri": "https://localhost:8080/"
        },
        "id": "N2tLNY0t9Lb3",
        "outputId": "79fc0f77-c83c-4121-8e53-ab46d09348bd"
      },
      "source": [
        "\r\n",
        "print (isce_total_2018.mean())\r\n",
        "print (isce_total_2018.max())\r\n",
        "print (isce_total_2018.min())\r\n"
      ],
      "execution_count": 31,
      "outputs": [
        {
          "output_type": "stream",
          "text": [
            "5.7228697370410115\n",
            "8.568110418\n",
            "3.188687515\n"
          ],
          "name": "stdout"
        }
      ]
    },
    {
      "cell_type": "markdown",
      "metadata": {
        "id": "TaD38hAiIwED"
      },
      "source": [
        "## **Comparar oficiales y privados en los diferentes indicadores para 2018**\r\n",
        "Se grafican los índices de calidad educativa de la ciudad de Medellín, según comuna y se clasifican por tipo de prestación de servicio (oficial y privado)\r\n",
        "\r\n",
        "\r\n",
        "\r\n",
        "\r\n",
        "### Leyenda\r\n",
        "**Zona 1 - Nororiental**\r\n",
        "*   Comuna 1 - Popular\r\n",
        "*   Comuna 2 - Santa Cruz\r\n",
        "*   Comuna 3 - Manrique\r\n",
        "*   Comuna 4 - Aranjuez\r\n",
        "\r\n",
        "**Zona 2 - Noroccidental**\r\n",
        "*   Comuna 5 - Castilla\r\n",
        "*   Comuna 6 - Doce de octubre\r\n",
        "*   Comuna 7 - Robledo\r\n",
        "\r\n",
        "**Zona 3 - Centro oriental**\r\n",
        "*   Comuna 8 - Villa Hermosa\r\n",
        "*   Comuna 9 - Buenos Aires\r\n",
        "*   Comuna 10 - La Candelaria\r\n",
        "\r\n",
        "**Zona 3 - Centro oriental**\r\n",
        "*   Comuna 11 - Laureles—Estadio\r\n",
        "*   Comuna 12 - La América\r\n",
        "*   Comuna 13 - San Javier\r\n",
        "\r\n",
        "**Zona 5 - Suroriental**\r\n",
        "*   Comuna 14 - Poblado\r\n",
        "*   Comuna 15 - Guayabal\r\n",
        "*   Comuna 16 - Belén\r\n",
        "\r\n",
        "**Corregimientos**\r\n",
        "*   Comuna 50 - San Sebastián de Palmitas\r\n",
        "*   Comuna 60 - San Cristóbal\r\n",
        "*   Comuna 70 - Altavista\r\n",
        "*   Comuna 80 - San Antonio de Prado\r\n",
        "*   Comuna 90 - Santa Elena\r\n",
        "\r\n",
        "\r\n",
        "\r\n",
        "\r\n",
        "\r\n",
        "\r\n",
        "\r\n",
        "\r\n",
        "\r\n",
        "\r\n",
        "\r\n",
        "\r\n",
        "\r\n",
        "\r\n",
        "\r\n",
        "\r\n",
        "\r\n",
        "\r\n",
        "\r\n",
        "\r\n",
        "\r\n",
        "\r\n",
        "\r\n",
        "\r\n",
        "\r\n",
        "\r\n",
        "\r\n"
      ]
    },
    {
      "cell_type": "code",
      "metadata": {
        "colab": {
          "base_uri": "https://localhost:8080/",
          "height": 231
        },
        "id": "2P40U3QwVpGr",
        "outputId": "ba2af4ba-2e70-4b5d-cd16-090ebcbe8d4d"
      },
      "source": [
        "comuna = cd_educativa[\"comuna\"]\r\n",
        "prestacion_servicio = str(cd_educativa[\"prestacion_servicio\"])\r\n",
        "isce_total_2018 = cd_educativa[\"isce_total_2018\"]\r\n",
        "\r\n",
        "df = df.replace(np.nan,0)\r\n",
        "df = df.groupby(['comuna','prestacion_servicio'])['isce_total_2018'].mean()\r\n",
        "\r\n",
        "df = df.plot(kind='bar', figsize=(10,3), color=\"indigo\", fontsize=15, width=2);\r\n",
        "df.set_alpha(0.8)\r\n",
        "df.set_title(\"Índice sintético de calidad educativa en Medellín\", fontsize=22)\r\n",
        "df.set_ylabel(\"índice\", fontsize=15);\r\n",
        "\r\n",
        "\r\n"
      ],
      "execution_count": 40,
      "outputs": [
        {
          "output_type": "error",
          "ename": "AttributeError",
          "evalue": "ignored",
          "traceback": [
            "\u001b[0;31m---------------------------------------------------------------------------\u001b[0m",
            "\u001b[0;31mAttributeError\u001b[0m                            Traceback (most recent call last)",
            "\u001b[0;32m<ipython-input-40-c49b470fd9d8>\u001b[0m in \u001b[0;36m<module>\u001b[0;34m()\u001b[0m\n\u001b[1;32m      3\u001b[0m \u001b[0misce_total_2018\u001b[0m \u001b[0;34m=\u001b[0m \u001b[0mcd_educativa\u001b[0m\u001b[0;34m[\u001b[0m\u001b[0;34m\"isce_total_2018\"\u001b[0m\u001b[0;34m]\u001b[0m\u001b[0;34m\u001b[0m\u001b[0;34m\u001b[0m\u001b[0m\n\u001b[1;32m      4\u001b[0m \u001b[0;34m\u001b[0m\u001b[0m\n\u001b[0;32m----> 5\u001b[0;31m \u001b[0mdf\u001b[0m \u001b[0;34m=\u001b[0m \u001b[0mdf\u001b[0m\u001b[0;34m.\u001b[0m\u001b[0mreplace\u001b[0m\u001b[0;34m(\u001b[0m\u001b[0mnp\u001b[0m\u001b[0;34m.\u001b[0m\u001b[0mnan\u001b[0m\u001b[0;34m,\u001b[0m\u001b[0;36m0\u001b[0m\u001b[0;34m)\u001b[0m\u001b[0;34m\u001b[0m\u001b[0;34m\u001b[0m\u001b[0m\n\u001b[0m\u001b[1;32m      6\u001b[0m \u001b[0mdf\u001b[0m \u001b[0;34m=\u001b[0m \u001b[0mdf\u001b[0m\u001b[0;34m.\u001b[0m\u001b[0mgroupby\u001b[0m\u001b[0;34m(\u001b[0m\u001b[0;34m[\u001b[0m\u001b[0;34m'comuna'\u001b[0m\u001b[0;34m,\u001b[0m\u001b[0;34m'prestacion_servicio'\u001b[0m\u001b[0;34m]\u001b[0m\u001b[0;34m)\u001b[0m\u001b[0;34m[\u001b[0m\u001b[0;34m'isce_total_2018'\u001b[0m\u001b[0;34m]\u001b[0m\u001b[0;34m.\u001b[0m\u001b[0mmean\u001b[0m\u001b[0;34m(\u001b[0m\u001b[0;34m)\u001b[0m\u001b[0;34m\u001b[0m\u001b[0;34m\u001b[0m\u001b[0m\n\u001b[1;32m      7\u001b[0m \u001b[0;34m\u001b[0m\u001b[0m\n",
            "\u001b[0;31mAttributeError\u001b[0m: 'list' object has no attribute 'replace'"
          ]
        }
      ]
    },
    {
      "cell_type": "code",
      "metadata": {
        "colab": {
          "base_uri": "https://localhost:8080/",
          "height": 214
        },
        "id": "G7hNty6MJdNO",
        "outputId": "57d43938-c916-4de3-c012-376463169383"
      },
      "source": [
        ""
      ],
      "execution_count": 39,
      "outputs": [
        {
          "output_type": "error",
          "ename": "AttributeError",
          "evalue": "ignored",
          "traceback": [
            "\u001b[0;31m---------------------------------------------------------------------------\u001b[0m",
            "\u001b[0;31mAttributeError\u001b[0m                            Traceback (most recent call last)",
            "\u001b[0;32m<ipython-input-39-1c6d2075be4f>\u001b[0m in \u001b[0;36m<module>\u001b[0;34m()\u001b[0m\n\u001b[1;32m      1\u001b[0m \u001b[0mdf\u001b[0m \u001b[0;34m=\u001b[0m \u001b[0mdf\u001b[0m\u001b[0;34m.\u001b[0m\u001b[0mplot\u001b[0m\u001b[0;34m(\u001b[0m\u001b[0mkind\u001b[0m\u001b[0;34m=\u001b[0m\u001b[0;34m'bar'\u001b[0m\u001b[0;34m,\u001b[0m \u001b[0mfigsize\u001b[0m\u001b[0;34m=\u001b[0m\u001b[0;34m(\u001b[0m\u001b[0;36m10\u001b[0m\u001b[0;34m,\u001b[0m\u001b[0;36m3\u001b[0m\u001b[0;34m)\u001b[0m\u001b[0;34m,\u001b[0m \u001b[0mcolor\u001b[0m\u001b[0;34m=\u001b[0m\u001b[0;34m\"indigo\"\u001b[0m\u001b[0;34m,\u001b[0m \u001b[0mfontsize\u001b[0m\u001b[0;34m=\u001b[0m\u001b[0;36m15\u001b[0m\u001b[0;34m,\u001b[0m \u001b[0mwidth\u001b[0m\u001b[0;34m=\u001b[0m\u001b[0;36m2\u001b[0m\u001b[0;34m)\u001b[0m\u001b[0;34m;\u001b[0m\u001b[0;34m\u001b[0m\u001b[0;34m\u001b[0m\u001b[0m\n\u001b[0;32m----> 2\u001b[0;31m \u001b[0mdf\u001b[0m\u001b[0;34m.\u001b[0m\u001b[0mset_alpha\u001b[0m\u001b[0;34m(\u001b[0m\u001b[0;36m0.8\u001b[0m\u001b[0;34m)\u001b[0m\u001b[0;34m\u001b[0m\u001b[0;34m\u001b[0m\u001b[0m\n\u001b[0m\u001b[1;32m      3\u001b[0m \u001b[0mdf\u001b[0m\u001b[0;34m.\u001b[0m\u001b[0mset_title\u001b[0m\u001b[0;34m(\u001b[0m\u001b[0;34m\"Índice sintético de calidad educativa en Medellín\"\u001b[0m\u001b[0;34m,\u001b[0m \u001b[0mfontsize\u001b[0m\u001b[0;34m=\u001b[0m\u001b[0;36m22\u001b[0m\u001b[0;34m)\u001b[0m\u001b[0;34m\u001b[0m\u001b[0;34m\u001b[0m\u001b[0m\n\u001b[1;32m      4\u001b[0m \u001b[0mdf\u001b[0m\u001b[0;34m.\u001b[0m\u001b[0mset_ylabel\u001b[0m\u001b[0;34m(\u001b[0m\u001b[0;34m\"índice\"\u001b[0m\u001b[0;34m,\u001b[0m \u001b[0mfontsize\u001b[0m\u001b[0;34m=\u001b[0m\u001b[0;36m15\u001b[0m\u001b[0;34m)\u001b[0m\u001b[0;34m;\u001b[0m\u001b[0;34m\u001b[0m\u001b[0;34m\u001b[0m\u001b[0m\n",
            "\u001b[0;31mAttributeError\u001b[0m: 'list' object has no attribute 'set_alpha'"
          ]
        }
      ]
    }
  ]
}